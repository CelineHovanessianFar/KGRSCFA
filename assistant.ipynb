{
 "cells": [
  {
   "cell_type": "code",
   "execution_count": 2,
   "metadata": {},
   "outputs": [
    {
     "name": "stdout",
     "output_type": "stream",
     "text": [
      "Every node is accounted for and appears exactly once.\n"
     ]
    }
   ],
   "source": [
    "import networkx as nx\n",
    "import numpy as np\n",
    "\n",
    "# Define the evaluate_communities function\n",
    "def evaluate_communities(graph, partition):\n",
    "    modularity = nx.algorithms.community.modularity(graph, partition)\n",
    "    sizes = [len(c) for c in partition.values()]\n",
    "    avg_size = sum(sizes) / len(sizes)\n",
    "    size_variance = np.var(sizes)\n",
    "\n",
    "    print(f\"Modularity: {modularity}\")\n",
    "    print(f\"Average Community Size: {avg_size}\")\n",
    "    print(f\"Size Variance: {size_variance}\")\n",
    "\n",
    "# Create a sample graph\n",
    "G = nx.Graph()\n",
    "edges = [(1, 2), (1, 3), (2, 3), (4, 5), (5, 6), (4, 6), (7, 8), (7, 9), (8, 9), (1, 4), (2, 5), (3, 6), (7, 1)]\n",
    "G.add_edges_from(edges)\n",
    "\n",
    "# # Define a partition of nodes into communities\n",
    "# partition = {\n",
    "#     0: [1, 2, 3],\n",
    "#     1: [4, 5, 6],\n",
    "#     2: [7, 8, 9]\n",
    "# }\n",
    "\n",
    "# # Evaluate the communities\n",
    "# evaluate_communities(G, partition)\n",
    "\n",
    "# # Example community data structured as a dictionary from earlier\n",
    "partition = {\n",
    "    0: [1, 2, 3],\n",
    "    1: [4, 5, 6],\n",
    "    2: [7, 8, 9]\n",
    "}\n",
    "\n",
    "# Convert dictionary to list of lists (if necessary)\n",
    "communities = list(partition.values())\n",
    "\n",
    "# Now let's validate if each node in the communities is part of the graph and each node appears only once\n",
    "nodes = {n for c in communities for n in c if n in G}\n",
    "if len(G) == len(nodes) == sum(len(c) for c in communities):\n",
    "    print(\"Every node is accounted for and appears exactly once.\")\n",
    "else:\n",
    "    print(\"There is a mismatch in nodes.\")\n"
   ]
  },
  {
   "cell_type": "code",
   "execution_count": 3,
   "metadata": {},
   "outputs": [
    {
     "data": {
      "text/plain": [
       "[[1, 2, 3], [4, 5, 6], [7, 8, 9]]"
      ]
     },
     "execution_count": 3,
     "metadata": {},
     "output_type": "execute_result"
    }
   ],
   "source": [
    "communities"
   ]
  },
  {
   "cell_type": "code",
   "execution_count": 5,
   "metadata": {},
   "outputs": [
    {
     "ename": "TypeError",
     "evalue": "'int' object is not iterable",
     "output_type": "error",
     "traceback": [
      "\u001b[1;31m---------------------------------------------------------------------------\u001b[0m",
      "\u001b[1;31mTypeError\u001b[0m                                 Traceback (most recent call last)",
      "Cell \u001b[1;32mIn[5], line 1\u001b[0m\n\u001b[1;32m----> 1\u001b[0m \u001b[43mevaluate_communities\u001b[49m\u001b[43m(\u001b[49m\u001b[43mG\u001b[49m\u001b[43m,\u001b[49m\u001b[43m \u001b[49m\u001b[43mpartition\u001b[49m\u001b[43m)\u001b[49m\n",
      "Cell \u001b[1;32mIn[2], line 6\u001b[0m, in \u001b[0;36mevaluate_communities\u001b[1;34m(graph, partition)\u001b[0m\n\u001b[0;32m      5\u001b[0m \u001b[38;5;28;01mdef\u001b[39;00m \u001b[38;5;21mevaluate_communities\u001b[39m(graph, partition):\n\u001b[1;32m----> 6\u001b[0m     modularity \u001b[38;5;241m=\u001b[39m \u001b[43mnx\u001b[49m\u001b[38;5;241;43m.\u001b[39;49m\u001b[43malgorithms\u001b[49m\u001b[38;5;241;43m.\u001b[39;49m\u001b[43mcommunity\u001b[49m\u001b[38;5;241;43m.\u001b[39;49m\u001b[43mmodularity\u001b[49m\u001b[43m(\u001b[49m\u001b[43mgraph\u001b[49m\u001b[43m,\u001b[49m\u001b[43m \u001b[49m\u001b[43mpartition\u001b[49m\u001b[43m)\u001b[49m\n\u001b[0;32m      7\u001b[0m     sizes \u001b[38;5;241m=\u001b[39m [\u001b[38;5;28mlen\u001b[39m(c) \u001b[38;5;28;01mfor\u001b[39;00m c \u001b[38;5;129;01min\u001b[39;00m partition\u001b[38;5;241m.\u001b[39mvalues()]\n\u001b[0;32m      8\u001b[0m     avg_size \u001b[38;5;241m=\u001b[39m \u001b[38;5;28msum\u001b[39m(sizes) \u001b[38;5;241m/\u001b[39m \u001b[38;5;28mlen\u001b[39m(sizes)\n",
      "File \u001b[1;32mc:\\Users\\Celine\\Anaconda3\\envs\\bot_and_work\\lib\\site-packages\\networkx\\algorithms\\community\\quality.py:227\u001b[0m, in \u001b[0;36mmodularity\u001b[1;34m(G, communities, weight, resolution)\u001b[0m\n\u001b[0;32m    225\u001b[0m \u001b[38;5;28;01mif\u001b[39;00m \u001b[38;5;129;01mnot\u001b[39;00m \u001b[38;5;28misinstance\u001b[39m(communities, \u001b[38;5;28mlist\u001b[39m):\n\u001b[0;32m    226\u001b[0m     communities \u001b[38;5;241m=\u001b[39m \u001b[38;5;28mlist\u001b[39m(communities)\n\u001b[1;32m--> 227\u001b[0m \u001b[38;5;28;01mif\u001b[39;00m \u001b[38;5;129;01mnot\u001b[39;00m \u001b[43mis_partition\u001b[49m\u001b[43m(\u001b[49m\u001b[43mG\u001b[49m\u001b[43m,\u001b[49m\u001b[43m \u001b[49m\u001b[43mcommunities\u001b[49m\u001b[43m)\u001b[49m:\n\u001b[0;32m    228\u001b[0m     \u001b[38;5;28;01mraise\u001b[39;00m NotAPartition(G, communities)\n\u001b[0;32m    230\u001b[0m directed \u001b[38;5;241m=\u001b[39m G\u001b[38;5;241m.\u001b[39mis_directed()\n",
      "File \u001b[1;32mc:\\Users\\Celine\\Anaconda3\\envs\\bot_and_work\\lib\\site-packages\\networkx\\algorithms\\community\\community_utils.py:25\u001b[0m, in \u001b[0;36mis_partition\u001b[1;34m(G, communities)\u001b[0m\n\u001b[0;32m     23\u001b[0m \u001b[38;5;28;01mif\u001b[39;00m \u001b[38;5;129;01mnot\u001b[39;00m \u001b[38;5;28misinstance\u001b[39m(communities, \u001b[38;5;28mlist\u001b[39m):\n\u001b[0;32m     24\u001b[0m     communities \u001b[38;5;241m=\u001b[39m \u001b[38;5;28mlist\u001b[39m(communities)\n\u001b[1;32m---> 25\u001b[0m nodes \u001b[38;5;241m=\u001b[39m {n \u001b[38;5;28;01mfor\u001b[39;00m c \u001b[38;5;129;01min\u001b[39;00m communities \u001b[38;5;28;01mfor\u001b[39;00m n \u001b[38;5;129;01min\u001b[39;00m c \u001b[38;5;28;01mif\u001b[39;00m n \u001b[38;5;129;01min\u001b[39;00m G}\n\u001b[0;32m     27\u001b[0m \u001b[38;5;28;01mreturn\u001b[39;00m \u001b[38;5;28mlen\u001b[39m(G) \u001b[38;5;241m==\u001b[39m \u001b[38;5;28mlen\u001b[39m(nodes) \u001b[38;5;241m==\u001b[39m \u001b[38;5;28msum\u001b[39m(\u001b[38;5;28mlen\u001b[39m(c) \u001b[38;5;28;01mfor\u001b[39;00m c \u001b[38;5;129;01min\u001b[39;00m communities)\n",
      "File \u001b[1;32mc:\\Users\\Celine\\Anaconda3\\envs\\bot_and_work\\lib\\site-packages\\networkx\\algorithms\\community\\community_utils.py:25\u001b[0m, in \u001b[0;36m<setcomp>\u001b[1;34m(.0)\u001b[0m\n\u001b[0;32m     23\u001b[0m \u001b[38;5;28;01mif\u001b[39;00m \u001b[38;5;129;01mnot\u001b[39;00m \u001b[38;5;28misinstance\u001b[39m(communities, \u001b[38;5;28mlist\u001b[39m):\n\u001b[0;32m     24\u001b[0m     communities \u001b[38;5;241m=\u001b[39m \u001b[38;5;28mlist\u001b[39m(communities)\n\u001b[1;32m---> 25\u001b[0m nodes \u001b[38;5;241m=\u001b[39m {n \u001b[38;5;28;01mfor\u001b[39;00m c \u001b[38;5;129;01min\u001b[39;00m communities \u001b[38;5;28;01mfor\u001b[39;00m n \u001b[38;5;129;01min\u001b[39;00m c \u001b[38;5;28;01mif\u001b[39;00m n \u001b[38;5;129;01min\u001b[39;00m G}\n\u001b[0;32m     27\u001b[0m \u001b[38;5;28;01mreturn\u001b[39;00m \u001b[38;5;28mlen\u001b[39m(G) \u001b[38;5;241m==\u001b[39m \u001b[38;5;28mlen\u001b[39m(nodes) \u001b[38;5;241m==\u001b[39m \u001b[38;5;28msum\u001b[39m(\u001b[38;5;28mlen\u001b[39m(c) \u001b[38;5;28;01mfor\u001b[39;00m c \u001b[38;5;129;01min\u001b[39;00m communities)\n",
      "\u001b[1;31mTypeError\u001b[0m: 'int' object is not iterable"
     ]
    }
   ],
   "source": [
    "evaluate_communities(G, partition)"
   ]
  },
  {
   "cell_type": "code",
   "execution_count": null,
   "metadata": {},
   "outputs": [],
   "source": []
  },
  {
   "cell_type": "code",
   "execution_count": null,
   "metadata": {},
   "outputs": [],
   "source": [
    "def evaluate_communities(graph, partition):\n",
    "    import networkx as nx\n",
    "    modularity = nx.algorithms.community.modularity(graph, partition)\n",
    "    sizes = [len(c) for c in partition]\n",
    "    avg_size = sum(sizes) / len(sizes)\n",
    "    size_variance = np.var(sizes)\n",
    "\n",
    "    print(f\"Modularity: {modularity}\")\n",
    "    print(f\"Average Community Size: {avg_size}\")\n",
    "    print(f\"Size Variance: {size_variance}\")\n",
    "\n",
    "    # Additional checks can be added here based on other metrics like homogeneity\n"
   ]
  },
  {
   "cell_type": "code",
   "execution_count": 6,
   "metadata": {},
   "outputs": [],
   "source": [
    "degree_centrality = nx.degree_centrality(G)\n"
   ]
  },
  {
   "cell_type": "code",
   "execution_count": 7,
   "metadata": {},
   "outputs": [
    {
     "data": {
      "text/plain": [
       "{1: 0.5,\n",
       " 2: 0.375,\n",
       " 3: 0.375,\n",
       " 4: 0.375,\n",
       " 5: 0.375,\n",
       " 6: 0.375,\n",
       " 7: 0.375,\n",
       " 8: 0.25,\n",
       " 9: 0.25}"
      ]
     },
     "execution_count": 7,
     "metadata": {},
     "output_type": "execute_result"
    }
   ],
   "source": [
    "degree_centrality"
   ]
  }
 ],
 "metadata": {
  "kernelspec": {
   "display_name": "bot_and_work",
   "language": "python",
   "name": "python3"
  },
  "language_info": {
   "codemirror_mode": {
    "name": "ipython",
    "version": 3
   },
   "file_extension": ".py",
   "mimetype": "text/x-python",
   "name": "python",
   "nbconvert_exporter": "python",
   "pygments_lexer": "ipython3",
   "version": "3.9.16"
  }
 },
 "nbformat": 4,
 "nbformat_minor": 2
}
