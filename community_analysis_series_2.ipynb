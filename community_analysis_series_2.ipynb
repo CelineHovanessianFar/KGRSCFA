{
 "cells": [
  {
   "cell_type": "code",
   "execution_count": null,
   "metadata": {},
   "outputs": [],
   "source": [
    "%load_ext autoreload\n",
    "%autoreload 2"
   ]
  },
  {
   "cell_type": "code",
   "execution_count": null,
   "metadata": {},
   "outputs": [],
   "source": [
    "import sys\n",
    "sys.path.append('CAFE')\n",
    "from CAFE import utils\n",
    "\n",
    "import graph_analysis\n",
    "from graph_analysis import CommunityAnalyzer"
   ]
  },
  {
   "cell_type": "code",
   "execution_count": null,
   "metadata": {},
   "outputs": [],
   "source": [
    "kg = utils.load_kg('beauty')\n",
    "analyzer = CommunityAnalyzer(kg.G)\n",
    "G = analyzer.build_graph(kg.G)"
   ]
  }
 ],
 "metadata": {
  "language_info": {
   "name": "python"
  }
 },
 "nbformat": 4,
 "nbformat_minor": 2
}
